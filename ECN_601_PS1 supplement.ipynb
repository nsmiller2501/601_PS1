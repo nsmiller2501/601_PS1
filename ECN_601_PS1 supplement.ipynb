{
 "cells": [
  {
   "cell_type": "code",
   "execution_count": 13,
   "metadata": {},
   "outputs": [
    {
     "name": "stderr",
     "output_type": "stream",
     "text": [
      "\u001b[1m\u001b[33mWARNING: \u001b[39m\u001b[22m\u001b[33mNot solved to optimality, status: Infeasible\u001b[39m\n"
     ]
    },
    {
     "data": {
      "text/plain": [
       ":Infeasible"
      ]
     },
     "execution_count": 13,
     "metadata": {},
     "output_type": "execute_result"
    }
   ],
   "source": [
    "using JuMP, GLPKMathProgInterface\n",
    "\n",
    "x1 = [266.081, 345.906, 239.473, 292.69, 186.257]\n",
    "x2 = [234.362, 304.671, 210.926, 257.798, 164.054]\n",
    "x3 = [499.556, 649.423, 449.601, 549.512, 349.689]\n",
    "\n",
    "β1 = 500.0\n",
    "β2 = 500.0\n",
    "β3 = 1000.0\n",
    "ϵ1 = 100.0\n",
    "ϵ2 = 200.0\n",
    "ω1 = [0.0, β1 + ϵ1, β1 + ϵ1, β1 - ϵ1, β1 - ϵ1]\n",
    "ω2 = [0.0, β2 + ϵ2, β2 - ϵ2, β2 + ϵ2, β2 - ϵ2]\n",
    "ω3 = [β3, 0.0, 0.0, 0.0, 0.0]\n",
    "\n",
    "ω = [sum(ω1[2]+ω2[2]+ω3[2]), sum(ω1[3]+ω2[3]+ω3[3]), sum(ω1[4]+ω2[4]+ω3[4]), sum(ω1[5]+ω2[5]+ω3[5])]\n",
    "\n",
    "test = Model(solver=GLPKSolverLP())\n",
    "\n",
    "@variables test begin\n",
    "    c[1:3] >= 0\n",
    "    d[1:3] >= 0\n",
    "end\n",
    "\n",
    "@constraints test begin\n",
    "    c[1] + d[1]*ω[1] == x1[2]\n",
    "    c[1] + d[1]*ω[2] == x1[3]\n",
    "    c[1] + d[1]*ω[3] == x1[4]\n",
    "    c[1] + d[1]*ω[4] == x1[5]\n",
    "    c[2] + d[2]*ω[1] == x2[2]\n",
    "    c[2] + d[2]*ω[2] == x2[3]\n",
    "    c[2] + d[2]*ω[3] == x2[4]\n",
    "    c[2] + d[2]*ω[4] == x2[5]\n",
    "    c[3] + d[3]*ω[1] == x3[2]\n",
    "    c[3] + d[3]*ω[2] == x3[3]\n",
    "    c[3] + d[3]*ω[3] == x3[4]\n",
    "    c[3] + d[3]*ω[4] == x3[5]\n",
    "    c[1] + c[2] + c[3] == 0\n",
    "    d[1] + d[2] + d[3] == 1\n",
    "end\n",
    "\n",
    "solve(test)"
   ]
  },
  {
   "cell_type": "code",
   "execution_count": null,
   "metadata": {
    "collapsed": true
   },
   "outputs": [],
   "source": []
  }
 ],
 "metadata": {
  "kernelspec": {
   "display_name": "Julia 0.6.0",
   "language": "julia",
   "name": "julia-0.6"
  },
  "language_info": {
   "file_extension": ".jl",
   "mimetype": "application/julia",
   "name": "julia",
   "version": "0.6.0"
  }
 },
 "nbformat": 4,
 "nbformat_minor": 2
}
